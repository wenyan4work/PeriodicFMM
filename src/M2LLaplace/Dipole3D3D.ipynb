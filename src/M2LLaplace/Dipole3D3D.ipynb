{
 "cells": [
  {
   "cell_type": "code",
   "execution_count": 28,
   "metadata": {},
   "outputs": [],
   "source": [
    "import numpy as np\n",
    "import scipy as sp\n",
    "import matplotlib as mpl\n",
    "import matplotlib.pyplot as plt\n",
    "import scipy.special as ss\n",
    "%precision 20\n",
    "%matplotlib inline"
   ]
  },
  {
   "cell_type": "code",
   "execution_count": null,
   "metadata": {},
   "outputs": [],
   "source": []
  },
  {
   "cell_type": "code",
   "execution_count": 29,
   "metadata": {},
   "outputs": [],
   "source": [
    "def GD(svec, tvec):\n",
    "    rvec = tvec - svec\n",
    "    rnorm = np.sqrt(rvec.dot(rvec))\n",
    "    return np.identity(3) / rnorm**3 - 3* np.outer(rvec,rvec) / rnorm ** 5\n",
    "\n",
    "def PD(svec,tvec):\n",
    "    rvec = tvec - svec\n",
    "    rnorm = np.sqrt(rvec.dot(rvec))\n",
    "    return rvec/rnorm**3"
   ]
  },
  {
   "cell_type": "code",
   "execution_count": 30,
   "metadata": {},
   "outputs": [
    {
     "data": {
      "text/plain": [
       "array([-0.19245008972987528995, -0.19245008972987528995,\n",
       "       -0.19245008972987528995])"
      ]
     },
     "execution_count": 30,
     "metadata": {},
     "output_type": "execute_result"
    }
   ],
   "source": [
    "PD(np.array([1,1,1]),np.array([0,0,0]))"
   ]
  },
  {
   "cell_type": "code",
   "execution_count": 57,
   "metadata": {},
   "outputs": [],
   "source": [
    "def pair(svec,tvec):\n",
    "    dipole=np.array([np.pi,np.e,np.sin(1)])\n",
    "    potential=0\n",
    "    size=50\n",
    "    for i in range(-size,size+1):\n",
    "        for j in range(-size,size+1):\n",
    "            for k in range(-size,size+1):\n",
    "                potential=potential+PD(svec,tvec+np.array([i,j,k])).dot(dipole)\n",
    "    print(potential)"
   ]
  },
  {
   "cell_type": "code",
   "execution_count": 58,
   "metadata": {},
   "outputs": [
    {
     "name": "stdout",
     "output_type": "stream",
     "text": [
      "-13.8506696704\n"
     ]
    }
   ],
   "source": [
    "pair(np.array([0.5,0.6,0.7]),np.array([0,0,0]))"
   ]
  },
  {
   "cell_type": "code",
   "execution_count": 33,
   "metadata": {},
   "outputs": [
    {
     "name": "stdout",
     "output_type": "stream",
     "text": [
      "-12.6692701143\n"
     ]
    }
   ],
   "source": [
    "pair(np.array([0.7,0.8,0.9]),np.array([0.2,0.2,0.2]))"
   ]
  },
  {
   "cell_type": "code",
   "execution_count": 34,
   "metadata": {},
   "outputs": [],
   "source": [
    "def f(r,eta):\n",
    "    return ss.erfc(np.sqrt(np.pi/eta)*r)/r\n",
    "\n",
    "def fp(r,eta):\n",
    "    return -ss.erfc(np.sqrt(np.pi/eta)*r)/(r*r) - 2*np.exp(-np.pi*r*r/eta)/(r*np.sqrt(eta))\n",
    "\n",
    "def fpp(r,eta):\n",
    "    return 2*ss.erfc(np.sqrt(np.pi/eta)*r)/(r*r*r) +4*np.pi*np.power(1/eta,1.5)*np.exp(-np.pi*r*r/eta)+4*np.exp(-np.pi*r*r/eta)/(r*r*np.sqrt(eta))"
   ]
  },
  {
   "cell_type": "code",
   "execution_count": 35,
   "metadata": {},
   "outputs": [
    {
     "name": "stdout",
     "output_type": "stream",
     "text": [
      "5.42257863137e-71 -3.42872898419e-69 2.16123466024e-67\n"
     ]
    }
   ],
   "source": [
    "r=5\n",
    "eta=0.5\n",
    "print(f(r,eta),fp(r,eta),fpp(r,eta))"
   ]
  },
  {
   "cell_type": "code",
   "execution_count": 74,
   "metadata": {},
   "outputs": [],
   "source": [
    "# note this is for box length = 1\n",
    "\n",
    "def KEwald(rm,rn,eta):\n",
    "    # relocate rm, rn to periodic box\n",
    "    rm[0]=rm[0]-np.floor(rm[0])\n",
    "    rm[1]=rm[1]-np.floor(rm[1])\n",
    "    rm[2]=rm[2]-np.floor(rm[2])\n",
    "    rn[0]=rn[0]-np.floor(rn[0])\n",
    "    rn[1]=rn[1]-np.floor(rn[1])\n",
    "    rn[2]=rn[2]-np.floor(rn[2])\n",
    "    \n",
    "    pLim=4\n",
    "    Kreal=0\n",
    "    for i in range(-pLim,pLim+1):\n",
    "        for j in range(-pLim,pLim+1):\n",
    "            for k in range(-pLim,pLim+1):\n",
    "                rmn=rm-rn+np.array([i,j,k])\n",
    "                r=np.sqrt(rmn.dot(rmn))\n",
    "                if(r < 1e-20):\n",
    "                    continue\n",
    "                Kreal+= fp(r,eta)/r*rmn\n",
    "    Kreal=-Kreal\n",
    "    \n",
    "    kLim=4\n",
    "    Kwave=0\n",
    "    rmn=rm-rn\n",
    "    for i in range(-kLim,kLim+1):\n",
    "        for k in range(-kLim,kLim+1):\n",
    "            for j in range(-kLim,kLim+1):\n",
    "                kvec=np.array([i,j,k])\n",
    "                knorm=np.sqrt(kvec.dot(kvec))\n",
    "                if knorm<1e-15:\n",
    "                    continue   \n",
    "                Kwave += 2*np.pi*np.sin(2*np.pi*kvec.dot(rmn)) \\\n",
    "                *np.exp(-eta*np.pi*knorm*knorm)/(np.pi*knorm*knorm)*kvec\n",
    "    Kself=0\n",
    "    \n",
    "    #print(Kreal,Kwave,Kself)\n",
    "    \n",
    "    return Kwave+Kreal+Kself"
   ]
  },
  {
   "cell_type": "code",
   "execution_count": 75,
   "metadata": {},
   "outputs": [
    {
     "name": "stdout",
     "output_type": "stream",
     "text": [
      "[ 0.59611363776427639394 -0.59611363776427628292 -0.78738671028636630922]\n",
      "-0.410221714656\n"
     ]
    }
   ],
   "source": [
    "%precision 20\n",
    "\n",
    "GDP=KEwald(np.array([0.4,0.6,0.7]),np.array([0,0,0]),0.5)\n",
    "print(GDP)\n",
    "print(GDP.dot(np.array([np.pi,np.e,np.sin(1)])))"
   ]
  },
  {
   "cell_type": "code",
   "execution_count": 76,
   "metadata": {},
   "outputs": [
    {
     "name": "stdout",
     "output_type": "stream",
     "text": [
      "[ 0.59611315630248440378 -0.59611315630248373765 -0.78738577510441964957]\n",
      "-0.410221131535\n"
     ]
    }
   ],
   "source": [
    "GDP=KEwald(np.array([0.4,0.6,0.7]),np.array([0,0,0]),0.125)\n",
    "print(GDP)\n",
    "print(GDP.dot(np.array([np.pi,np.e,np.sin(1)])))"
   ]
  },
  {
   "cell_type": "code",
   "execution_count": 77,
   "metadata": {},
   "outputs": [
    {
     "name": "stdout",
     "output_type": "stream",
     "text": [
      "[ 0.596113637764276727   -0.59611363776427661598 -0.78738671028636686433]\n",
      "-0.410221714656\n"
     ]
    }
   ],
   "source": [
    "GDP=KEwald(np.array([0.6,0.8,0.9]),np.array([0.2,0.2,0.2]),1.2)\n",
    "print(GDP)\n",
    "print(GDP.dot(np.array([np.pi,np.e,np.sin(1)])))"
   ]
  },
  {
   "cell_type": "code",
   "execution_count": 78,
   "metadata": {},
   "outputs": [
    {
     "name": "stdout",
     "output_type": "stream",
     "text": [
      "2.91400959945e-24 -7.4680233198e-23 1.89594983016e-21\n",
      "-1.85860971356e-21\n"
     ]
    }
   ],
   "source": [
    "r=4\n",
    "eta=1.0\n",
    "print(f(r,eta),fp(r,eta),fpp(r,eta))\n",
    "print(-4*np.pi*np.pi*np.exp(-eta*np.pi*r*r)/(np.pi*r*r)*r*r)"
   ]
  },
  {
   "cell_type": "code",
   "execution_count": 79,
   "metadata": {},
   "outputs": [],
   "source": [
    "etalist=np.array([0.1*i for i in range(4,20)])\n",
    "diff=np.array([0.596113637764276727-KEwald(np.array([0.6,0.8,0.9]),np.array([0.2,0.2,0.2]),etalist[i])[0] for i in range(20-4)])\n"
   ]
  },
  {
   "cell_type": "code",
   "execution_count": 80,
   "metadata": {},
   "outputs": [
    {
     "data": {
      "text/plain": [
       "array([  5.55111512312578270212e-16,   1.11022302462515654042e-16,\n",
       "         2.22044604925031308085e-16,   1.11022302462515654042e-16,\n",
       "         1.11022302462515654042e-16,   2.22044604925031308085e-16,\n",
       "        -1.11022302462515654042e-16,   3.33066907387546962127e-16,\n",
       "         0.00000000000000000000e+00,   1.11022302462515654042e-16,\n",
       "         9.99200722162640886381e-16,  -5.55111512312578270212e-16,\n",
       "        -5.55111512312578270212e-16,  -7.77156117237609578297e-16,\n",
       "        -8.88178419700125232339e-16,  -1.33226762955018784851e-15])"
      ]
     },
     "execution_count": 80,
     "metadata": {},
     "output_type": "execute_result"
    },
    {
     "data": {
      "image/png": "[encoded data removed]",
      "text/plain": [
       "<matplotlib.figure.Figure at 0x1125d15f8>"
      ]
     },
     "metadata": {},
     "output_type": "display_data"
    }
   ],
   "source": [
    "plt.plot(etalist,-diff)\n",
    "diff"
   ]
  },
  {
   "cell_type": "code",
   "execution_count": 81,
   "metadata": {},
   "outputs": [
    {
     "data": {
      "text/plain": [
       "0.00000000000000000113"
      ]
     },
     "execution_count": 81,
     "metadata": {},
     "output_type": "execute_result"
    }
   ],
   "source": [
    "KEwald(np.array([0.5,0.5,0.5]),np.array([0.5,0.5,0.5]),1.0).dot(np.array([1,1,1]))"
   ]
  },
  {
   "cell_type": "code",
   "execution_count": 82,
   "metadata": {},
   "outputs": [
    {
     "data": {
      "text/plain": [
       "0.00000000000000000453"
      ]
     },
     "execution_count": 82,
     "metadata": {},
     "output_type": "execute_result"
    }
   ],
   "source": [
    "KEwald(np.array([0,0,0]),np.array([0.5,0.5,0.5]),1.0).dot(np.array([0.5,0.5,0.5]))"
   ]
  },
  {
   "cell_type": "code",
   "execution_count": 83,
   "metadata": {},
   "outputs": [
    {
     "data": {
      "text/plain": [
       "-23.48660380315382667504"
      ]
     },
     "execution_count": 83,
     "metadata": {},
     "output_type": "execute_result"
    }
   ],
   "source": [
    "KEwald(np.array([0.2,0.3,0.4]),np.array([0.3,0.6,0.5]),1.0).dot(np.array([3,2,1]))"
   ]
  },
  {
   "cell_type": "code",
   "execution_count": 84,
   "metadata": {},
   "outputs": [
    {
     "data": {
      "text/plain": [
       "-0.83918927151112920892"
      ]
     },
     "execution_count": 84,
     "metadata": {},
     "output_type": "execute_result"
    }
   ],
   "source": [
    "KEwald(np.array([0.7,0.9,0.7]),np.array([0.2,0.3,0.4]),1.0).dot(np.array([0.1,2,0.3]))"
   ]
  },
  {
   "cell_type": "code",
   "execution_count": null,
   "metadata": {},
   "outputs": [],
   "source": []
  },
  {
   "cell_type": "code",
   "execution_count": null,
   "metadata": {},
   "outputs": [],
   "source": []
  },
  {
   "cell_type": "code",
   "execution_count": null,
   "metadata": {},
   "outputs": [],
   "source": []
  },
  {
   "cell_type": "code",
   "execution_count": null,
   "metadata": {},
   "outputs": [],
   "source": []
  },
  {
   "cell_type": "code",
   "execution_count": null,
   "metadata": {},
   "outputs": [],
   "source": []
  },
  {
   "cell_type": "code",
   "execution_count": null,
   "metadata": {},
   "outputs": [],
   "source": []
  },
  {
   "cell_type": "code",
   "execution_count": null,
   "metadata": {},
   "outputs": [],
   "source": []
  }
 ],
 "metadata": {
  "kernelspec": {
   "display_name": "Python 3",
   "language": "python",
   "name": "python3"
  },
  "language_info": {
   "codemirror_mode": {
    "name": "ipython",
    "version": 3
   },
   "file_extension": ".py",
   "mimetype": "text/x-python",
   "name": "python",
   "nbconvert_exporter": "python",
   "pygments_lexer": "ipython3",
   "version": "3.6.3"
  }
 },
 "nbformat": 4,
 "nbformat_minor": 2
}
