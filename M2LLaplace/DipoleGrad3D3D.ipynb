{
 "cells": [
  {
   "cell_type": "code",
   "execution_count": 36,
   "metadata": {},
   "outputs": [],
   "source": [
    "import numpy as np\n",
    "import scipy as sp\n",
    "import matplotlib as mpl\n",
    "import matplotlib.pyplot as plt\n",
    "import scipy.special as ss\n",
    "%precision 20\n",
    "%matplotlib inline"
   ]
  },
  {
   "cell_type": "code",
   "execution_count": null,
   "metadata": {},
   "outputs": [],
   "source": [
    "# note\n",
    "# self term IS checked\n",
    "# no-flux condition IS satisfied"
   ]
  },
  {
   "cell_type": "code",
   "execution_count": 8,
   "metadata": {},
   "outputs": [],
   "source": [
    "def GD(svec, tvec):\n",
    "    rvec = tvec - svec\n",
    "    rnorm = np.sqrt(rvec.dot(rvec))\n",
    "    return np.identity(3) / rnorm**3 - 3* np.outer(rvec,rvec) / rnorm ** 5\n"
   ]
  },
  {
   "cell_type": "code",
   "execution_count": 9,
   "metadata": {},
   "outputs": [
    {
     "data": {
      "text/plain": [
       "array([[ -2.77555756156289135106e-17,  -1.92450089729875317701e-01,\n",
       "         -1.92450089729875317701e-01],\n",
       "       [ -1.92450089729875317701e-01,  -2.77555756156289135106e-17,\n",
       "         -1.92450089729875317701e-01],\n",
       "       [ -1.92450089729875317701e-01,  -1.92450089729875317701e-01,\n",
       "         -2.77555756156289135106e-17]])"
      ]
     },
     "execution_count": 9,
     "metadata": {},
     "output_type": "execute_result"
    }
   ],
   "source": [
    "GD(np.array([1,1,1]),np.array([0,0,0]))"
   ]
  },
  {
   "cell_type": "code",
   "execution_count": 90,
   "metadata": {},
   "outputs": [],
   "source": [
    "def pair(svec,tvec):\n",
    "    dipole=np.array([np.pi,np.e,np.sin(1)])\n",
    "    potential=np.array([0,0,0])\n",
    "    size=50\n",
    "    for i in range(-2*size,2*size+1):\n",
    "        for j in range(-size,size+1):\n",
    "            for k in range(-size,size+1):\n",
    "                potential=potential+GD(svec,tvec+np.array([i,j,k])).dot(dipole)\n",
    "    print(potential)"
   ]
  },
  {
   "cell_type": "code",
   "execution_count": 91,
   "metadata": {},
   "outputs": [
    {
     "name": "stdout",
     "output_type": "stream",
     "text": [
      "[-14.59069753513132283729   1.16910454889992498906  -0.02004584208605173987]\n"
     ]
    }
   ],
   "source": [
    "pair(np.array([0.5,0.6,0.7]),np.array([0,0,0]))"
   ]
  },
  {
   "cell_type": "code",
   "execution_count": 92,
   "metadata": {},
   "outputs": [
    {
     "name": "stdout",
     "output_type": "stream",
     "text": [
      "[-14.59069753513131573186   1.16910454889994230854  -0.02004584208604523812]\n"
     ]
    }
   ],
   "source": [
    "pair(np.array([0.7,0.8,0.9]),np.array([0.2,0.2,0.2]))"
   ]
  },
  {
   "cell_type": "code",
   "execution_count": 339,
   "metadata": {},
   "outputs": [],
   "source": [
    "def f(r,eta):\n",
    "    return ss.erfc(np.sqrt(np.pi/eta)*r)/r\n",
    "\n",
    "def fp(r,eta):\n",
    "    return -ss.erfc(np.sqrt(np.pi/eta)*r)/(r*r) - 2*np.exp(-np.pi*r*r/eta)/(r*np.sqrt(eta))\n",
    "\n",
    "def fpp(r,eta):\n",
    "    return 2*ss.erfc(np.sqrt(np.pi/eta)*r)/(r*r*r) +4*np.pi*np.power(1/eta,1.5)*np.exp(-np.pi*r*r/eta)+4*np.exp(-np.pi*r*r/eta)/(r*r*np.sqrt(eta))"
   ]
  },
  {
   "cell_type": "code",
   "execution_count": 340,
   "metadata": {},
   "outputs": [
    {
     "name": "stdout",
     "output_type": "stream",
     "text": [
      "5.42257863137e-71 -3.42872898419e-69 2.16123466024e-67\n"
     ]
    }
   ],
   "source": [
    "r=5\n",
    "eta=0.5\n",
    "print(f(r,eta),fp(r,eta),fpp(r,eta))"
   ]
  },
  {
   "cell_type": "code",
   "execution_count": 383,
   "metadata": {},
   "outputs": [],
   "source": [
    "# note this is for box length = 1\n",
    "\n",
    "def KEwald(rm,rn,eta):\n",
    "    # relocate rm, rn to periodic box\n",
    "    rm[0]=rm[0]-np.floor(rm[0])\n",
    "    rm[1]=rm[1]-np.floor(rm[1])\n",
    "    rm[2]=rm[2]-np.floor(rm[2])\n",
    "    rn[0]=rn[0]-np.floor(rn[0])\n",
    "    rn[1]=rn[1]-np.floor(rn[1])\n",
    "    rn[2]=rn[2]-np.floor(rn[2])\n",
    "    \n",
    "    pLim=5\n",
    "    Kreal=np.zeros([3,3])\n",
    "    for i in range(-pLim,pLim+1):\n",
    "        for j in range(-pLim,pLim+1):\n",
    "            for k in range(-pLim,pLim+1):\n",
    "                rmn=rm-rn+np.array([i,j,k])\n",
    "                r=np.sqrt(rmn.dot(rmn))\n",
    "                if(r < 1e-20):\n",
    "                    continue\n",
    "                Kreal+= ((fpp(r,eta)/(r*r) - fp(r,eta)/(r*r*r))*np.outer(rmn,rmn) \\\n",
    "                + (fp(r,eta)/r)*np.identity(3) )\n",
    "    Kreal=-Kreal\n",
    "    \n",
    "    kLim=5\n",
    "    Kwave=np.zeros([3,3])\n",
    "    rmn=rm-rn\n",
    "    for i in range(-kLim,kLim+1):\n",
    "        for k in range(-kLim,kLim+1):\n",
    "            for j in range(-kLim,kLim+1):\n",
    "                kvec=np.array([i,j,k])\n",
    "                knorm=np.sqrt(kvec.dot(kvec))\n",
    "                if knorm<1e-15:\n",
    "                    continue   \n",
    "                Kwave += -4*np.pi*np.pi*np.cos(2*np.pi*kvec.dot(rmn)) \\\n",
    "                *np.exp(-eta*np.pi*knorm*knorm)/(np.pi*knorm*knorm)*np.outer(kvec,kvec)\n",
    "    Kwave=-Kwave\n",
    "    \n",
    "    # the k=0 term. needed to guarantee no flow condition\n",
    "    Kwave=Kwave+4*np.pi*np.identity(3)\n",
    "    \n",
    "    Kself=0\n",
    "    rmn=rm-rn\n",
    "    if(rmn.dot(rmn)<1e-20):\n",
    "        Kself=-np.identity(3)*4*np.pi/(3*np.power(eta,1.5))\n",
    "    \n",
    "    #print(Kreal,Kwave,Kself)\n",
    "    \n",
    "    return Kwave+Kreal+Kself"
   ]
  },
  {
   "cell_type": "code",
   "execution_count": 384,
   "metadata": {},
   "outputs": [
    {
     "name": "stdout",
     "output_type": "stream",
     "text": [
      "[ 19.78666777421790357039  20.4566671608687222772    5.9522091708409252675 ]\n"
     ]
    }
   ],
   "source": [
    "GDP=KEwald(np.array([0.5,0.6,0.7]),np.array([0,0,0]),0.5)\n",
    "print(GDP.dot(np.array([np.pi,np.e,np.sin(1)])))"
   ]
  },
  {
   "cell_type": "code",
   "execution_count": 385,
   "metadata": {},
   "outputs": [
    {
     "name": "stdout",
     "output_type": "stream",
     "text": [
      "[ 19.78666644679378094906  20.45666768262782753141   5.95220941627103261595]\n"
     ]
    }
   ],
   "source": [
    "GDP=KEwald(np.array([0.5,0.6,0.7]),np.array([0,0,0]),0.125)\n",
    "print(GDP.dot(np.array([np.pi,np.e,np.sin(1)])))"
   ]
  },
  {
   "cell_type": "code",
   "execution_count": 386,
   "metadata": {},
   "outputs": [
    {
     "name": "stdout",
     "output_type": "stream",
     "text": [
      "[ 19.78666777421786804325  20.45666716086871161906   5.95220917084090928029]\n"
     ]
    }
   ],
   "source": [
    "GDP=KEwald(np.array([0.7,0.8,0.9]),np.array([0.2,0.2,0.2]),1.0)\n",
    "print(GDP.dot(np.array([np.pi,np.e,np.sin(1)])))"
   ]
  },
  {
   "cell_type": "code",
   "execution_count": 387,
   "metadata": {},
   "outputs": [
    {
     "name": "stdout",
     "output_type": "stream",
     "text": [
      "9.83510835054e-37 -3.1288880163e-35 9.89305131827e-34\n",
      "-9.76789579762e-34\n"
     ]
    }
   ],
   "source": [
    "r=5\n",
    "eta=1.0\n",
    "print(f(r,eta),fp(r,eta),fpp(r,eta))\n",
    "print(-4*np.pi*np.pi*np.exp(-eta*np.pi*r*r)/(np.pi*r*r)*r*r)"
   ]
  },
  {
   "cell_type": "code",
   "execution_count": 400,
   "metadata": {},
   "outputs": [],
   "source": [
    "etalist=np.array([0.1*i for i in range(1,20)])\n",
    "diff=np.array([19.78666777421786804325-KEwald(np.array([0.7,0.8,0.9]),np.array([0.2,0.2,0.2]),etalist[i]).dot(np.array([np.pi,np.e,np.sin(1)]))[0] for i in range(20-1)])\n"
   ]
  },
  {
   "cell_type": "code",
   "execution_count": 389,
   "metadata": {},
   "outputs": [
    {
     "data": {
      "text/plain": [
       "array([-39.47841014092206535224, -39.47841760290074830664,\n",
       "       -39.47841760435743196922, -39.47841760435743907465,\n",
       "       -39.4784176043574532855 , -39.47841760435743907465,\n",
       "       -39.47841760435744618007, -39.47841760435746039093,\n",
       "       -39.47841760435744618007, -39.47841760435743196922,\n",
       "       -39.47841760435744618007, -39.47841760435746039093,\n",
       "       -39.47841760435746749636, -39.47841760435746039093,\n",
       "       -39.47841760435746749636, -39.47841760435746749636,\n",
       "       -39.47841760435744618007, -39.47841760435744618007,\n",
       "       -39.47841760435748881264])"
      ]
     },
     "execution_count": 389,
     "metadata": {},
     "output_type": "execute_result"
    },
    {
     "data": {
      "image/png": "[encoded data removed]",
      "text/plain": [
       "<matplotlib.figure.Figure at 0x1115bfcc0>"
      ]
     },
     "metadata": {},
     "output_type": "display_data"
    }
   ],
   "source": [
    "plt.plot(etalist,-diff)\n",
    "diff"
   ]
  },
  {
   "cell_type": "code",
   "execution_count": 390,
   "metadata": {},
   "outputs": [
    {
     "name": "stdout",
     "output_type": "stream",
     "text": [
      "[ 0.                      0.00240763666390153563  0.00960735979838478471\n",
      "  0.02152983213389558781  0.03806023374435663076  0.05903936782582247522\n",
      "  0.08426519384872738216  0.11349477331863150331  0.14644660940672621363\n",
      "  0.18280335791817720059  0.22221488349019885566  0.26430163158700109571\n",
      "  0.30865828381745508135  0.35485766137276886223  0.4024548389919358482\n",
      "  0.45099142983521961492  0.49999999999999994449  0.54900857016478032957\n",
      "  0.59754516100806409629  0.64514233862723113777  0.69134171618254480762\n",
      "  0.73569836841299884878  0.7777851165098009778   0.81719664208182263287\n",
      "  0.85355339059327373086  0.88650522668136844118  0.91573480615127267335\n",
      "  0.94096063217417746927  0.96193976625564336924  0.97847016786610441219\n",
      "  0.99039264020161521529  0.99759236333609835334  1.                    ] [ 0.00047348484848484915  0.004727146391057176    0.00958657515676090803\n",
      "  0.01425950574819651213  0.01876662354744393704  0.02316192882845554205\n",
      "  0.02724696074241049482  0.03116660218222666243  0.03468324040563806887\n",
      "  0.0379724476302739089   0.04078686141788958469  0.04331931663049337633\n",
      "  0.04532250902428082429  0.04700216962896403006  0.04811561556316442528\n",
      "  0.04887964151360744969  0.04905874148130448531  0.04887964151360745663\n",
      "  0.04811561556316441834  0.04700216962896402312  0.04532250902428082429\n",
      "  0.04331931663049338327  0.04078686141788959163  0.0379724476302739089\n",
      "  0.03468324040563806887  0.0311666021822266659   0.02724696074241048094\n",
      "  0.02316192882845554898  0.01876662354744394051  0.0142595057481965156\n",
      "  0.00958657515676091844  0.00472714639105719335  0.00047348484848484915]\n"
     ]
    }
   ],
   "source": [
    "# check flux of point force\n",
    "pCheb = 32\n",
    "pChebX=np.array([-np.cos(i/pCheb*np.pi) for i in range(pCheb+1)])/2+0.5  \n",
    "\n",
    "# Clenshaw-Curtis weights\n",
    "Dkn=np.zeros((pCheb+1,pCheb+1))\n",
    "    \n",
    "for k in range(pCheb+1):\n",
    "    for n in range(pCheb+1):\n",
    "        Dkn[k,n]=np.cos(k*n/pCheb*np.pi)*2.0/pCheb\n",
    "        if(n==0 or n==pCheb):\n",
    "            Dkn[k,n]=np.cos(k*n/pCheb*np.pi)*1.0/pCheb\n",
    "\n",
    "dvec=np.zeros(pCheb+1)\n",
    "for i in range(pCheb+1):\n",
    "    if(i%2==1):\n",
    "        dvec[i]=0\n",
    "    else:\n",
    "        dvec[i]=2/(1.0-i**2)\n",
    "dvec[0]=1\n",
    "        \n",
    "weightCC=np.dot(Dkn.transpose(),dvec)/2 # scale from weight for (-1,1) to (0,1)\n",
    "\n",
    "print(pChebX,weightCC)\n"
   ]
  },
  {
   "cell_type": "code",
   "execution_count": 391,
   "metadata": {},
   "outputs": [
    {
     "name": "stdout",
     "output_type": "stream",
     "text": [
      "7.29591020413e-13\n"
     ]
    }
   ],
   "source": [
    "# random ponit force\n",
    "spos=np.array([0.31,0.453,0.531])\n",
    "sforce=np.array([np.pi,np.e,np.sin(1)])\n",
    "\n",
    "# plane x-y\n",
    "uz=0\n",
    "for i in range(pCheb+1):\n",
    "    for j in range(pCheb+1):\n",
    "        px=pChebX[i]\n",
    "        py=pChebX[j]\n",
    "        weight=weightCC[i]*weightCC[j]\n",
    "        point=np.array([px,py,0])\n",
    "        GDP=KEwald(point,spos,1.0)\n",
    "        uz=uz+weight*(GDP.dot(sforce)[2])\n",
    "print(uz)"
   ]
  },
  {
   "cell_type": "code",
   "execution_count": 392,
   "metadata": {},
   "outputs": [
    {
     "name": "stdout",
     "output_type": "stream",
     "text": [
      "-8.9930286107e-09\n"
     ]
    }
   ],
   "source": [
    "# plane y-z\n",
    "ux=0\n",
    "for i in range(pCheb+1):\n",
    "    for j in range(pCheb+1):\n",
    "        px=pChebX[i]\n",
    "        py=pChebX[j]\n",
    "        weight=weightCC[i]*weightCC[j]\n",
    "        point=np.array([0,px,py])\n",
    "        GDP=KEwald(point,spos,1.0)\n",
    "        ux=ux+weight*(GDP.dot(sforce)[0])\n",
    "print(ux)"
   ]
  },
  {
   "cell_type": "code",
   "execution_count": 393,
   "metadata": {},
   "outputs": [
    {
     "name": "stdout",
     "output_type": "stream",
     "text": [
      "-2.10924489769e-11\n"
     ]
    }
   ],
   "source": [
    "uz=0\n",
    "for i in range(pCheb+1):\n",
    "    for j in range(pCheb+1):\n",
    "        px=pChebX[i]\n",
    "        py=pChebX[j]\n",
    "        weight=weightCC[i]*weightCC[j]\n",
    "        point=np.array([px,py,0.9])\n",
    "        GDP=KEwald(point,spos,1.0)\n",
    "        uz=uz+weight*(GDP.dot(sforce)[2])\n",
    "print(uz)"
   ]
  },
  {
   "cell_type": "code",
   "execution_count": 394,
   "metadata": {},
   "outputs": [
    {
     "data": {
      "text/plain": [
       "array([ 39.47841760435743196922,  34.15893689069426386595,\n",
       "        10.57423625632582364631])"
      ]
     },
     "execution_count": 394,
     "metadata": {},
     "output_type": "execute_result"
    }
   ],
   "source": [
    "sforce*4*np.pi"
   ]
  },
  {
   "cell_type": "code",
   "execution_count": 395,
   "metadata": {},
   "outputs": [
    {
     "data": {
      "text/plain": [
       "0.00234542220312374330"
      ]
     },
     "execution_count": 395,
     "metadata": {},
     "output_type": "execute_result"
    }
   ],
   "source": [
    "uz/ux"
   ]
  },
  {
   "cell_type": "code",
   "execution_count": 396,
   "metadata": {},
   "outputs": [
    {
     "data": {
      "text/plain": [
       "0.26784853340116376863"
      ]
     },
     "execution_count": 396,
     "metadata": {},
     "output_type": "execute_result"
    }
   ],
   "source": [
    "sforce[2]/sforce[0]"
   ]
  },
  {
   "cell_type": "code",
   "execution_count": 397,
   "metadata": {},
   "outputs": [
    {
     "name": "stdout",
     "output_type": "stream",
     "text": [
      "[ 26.31894506957159762806  22.77262459379614512045   7.04949083755053962363]\n"
     ]
    }
   ],
   "source": [
    "GDP=KEwald(np.array([0.5,0.6,0.7]),np.array([0.5,0.6,0.7]),0.5)\n",
    "print(GDP.dot(np.array([np.pi,np.e,np.sin(1)])))"
   ]
  },
  {
   "cell_type": "code",
   "execution_count": 398,
   "metadata": {},
   "outputs": [
    {
     "name": "stdout",
     "output_type": "stream",
     "text": [
      "[ -685048.4161118075717240572   -766518.16713401104789227247\n",
      " -1127726.29853675351478159428]\n"
     ]
    }
   ],
   "source": [
    "GDP=KEwald(np.array([0.01,0.01,0.01]),np.array([0,0,0]),1.0)\n",
    "print(GDP.dot(np.array([np.pi,np.e,np.sin(1)])))"
   ]
  },
  {
   "cell_type": "code",
   "execution_count": 399,
   "metadata": {},
   "outputs": [
    {
     "data": {
      "text/plain": [
       "array([ -685048.42938432935625314713,  -766518.18198484508320689201,\n",
       "       -1127726.32038526772521436214])"
      ]
     },
     "execution_count": 399,
     "metadata": {},
     "output_type": "execute_result"
    }
   ],
   "source": [
    "GDP=KEwald(np.array([0.5,0.6,0.7]),np.array([0.5,0.6,0.7]),0.5)\n",
    "GD(np.array([0.01,0.01,0.01]),np.array([0,0,0])).dot(np.array([np.pi,np.e,np.sin(1)]))+GDP.dot(np.array([np.pi,np.e,np.sin(1)]))"
   ]
  },
  {
   "cell_type": "code",
   "execution_count": null,
   "metadata": {},
   "outputs": [],
   "source": []
  }
 ],
 "metadata": {
  "kernelspec": {
   "display_name": "Python 3",
   "language": "python",
   "name": "python3"
  },
  "language_info": {
   "codemirror_mode": {
    "name": "ipython",
    "version": 3
   },
   "file_extension": ".py",
   "mimetype": "text/x-python",
   "name": "python",
   "nbconvert_exporter": "python",
   "pygments_lexer": "ipython3",
   "version": "3.6.3"
  }
 },
 "nbformat": 4,
 "nbformat_minor": 2
}
